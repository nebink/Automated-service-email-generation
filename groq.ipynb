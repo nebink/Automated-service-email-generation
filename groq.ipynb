{
 "cells": [
  {
   "cell_type": "code",
   "execution_count": 16,
   "metadata": {},
   "outputs": [
    {
     "name": "stdout",
     "output_type": "stream",
     "text": [
      "Phytoremediation is a process that uses plants to remove contaminants from soil, water, and air. It is a cost-effective and environmentally friendly method of cleaning up polluted sites, and it can be used to remediate a wide variety of contaminants, including heavy metals, organic compounds, and radionuclides.\n",
      "\n",
      "There are several different mechanisms by which plants can remove contaminants from the environment. These include:\n",
      "\n",
      "* Phytoextraction: This is the process by which plants absorb contaminants from the soil through their roots and accumulate them in their aboveground tissues. The contaminants can then be removed from the site by harvesting the plants.\n",
      "* Phytodegradation: This is the process by which plants take up contaminants and break them down into less toxic forms through metabolic processes.\n",
      "* Rhizofiltration: This is the process by which plants absorb contaminants from water through their roots.\n",
      "* Phytovolatilization: This is the process by which plants take up contaminants and release them into the air in a less toxic form.\n",
      "\n",
      "Phytoremediation has several advantages over traditional methods of remediation, such as excavation and disposal. It is less disruptive to the environment, and it can be used to treat large areas at a lower cost. Additionally, phytoremediation can often be combined with other remediation techniques to enhance their effectiveness.\n",
      "\n",
      "There are many different plants that can be used for phytoremediation, and the choice of plant will depend on the specific contaminants present at the site and the environmental conditions. Some common phytoremediation plants include sunflowers, Indian mustard, and hybrid poplar.\n",
      "\n",
      "Phytoremediation is still a relatively new field, and there is ongoing research to improve its effectiveness and efficiency. However, it has already been successfully used to clean up a number of contaminated sites around the world.\n"
     ]
    }
   ],
   "source": [
    "from langchain_groq import ChatGroq\n",
    "\n",
    "llm = ChatGroq(\n",
    "    temperature=0,\n",
    "    groq_api_key=\"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\",\n",
    "    model_name=\"mixtral-8x7b-32768\",\n",
    ")\n",
    "\n",
    "\n",
    "response = llm.invoke([{\"role\": \"user\", \"content\": \"what is phytoremediation process\"}])\n",
    "print(response.content)"
   ]
  }
 ],
 "metadata": {
  "kernelspec": {
   "display_name": "Python 3",
   "language": "python",
   "name": "python3"
  },
  "language_info": {
   "codemirror_mode": {
    "name": "ipython",
    "version": 3
   },
   "file_extension": ".py",
   "mimetype": "text/x-python",
   "name": "python",
   "nbconvert_exporter": "python",
   "pygments_lexer": "ipython3",
   "version": "3.12.4"
  }
 },
 "nbformat": 4,
 "nbformat_minor": 2
}
