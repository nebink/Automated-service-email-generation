{
 "cells": [
  {
   "cell_type": "code",
   "execution_count": 1,
   "metadata": {},
   "outputs": [],
   "source": [
    "from langchain_groq import ChatGroq"
   ]
  },
  {
   "cell_type": "code",
   "execution_count": 2,
   "metadata": {},
   "outputs": [
    {
     "name": "stdout",
     "output_type": "stream",
     "text": [
      "Phytoremediation is a process that uses plants to remove contaminants from soil, water, and air. It is a cost-effective and environmentally friendly method of cleaning up polluted sites, and it can be used to remediate a wide variety of contaminants, including heavy metals, organic compounds, and radionuclides.\n",
      "\n",
      "There are several different mechanisms by which plants can remove contaminants from the environment. These include:\n",
      "\n",
      "* Phytoextraction: This is the process by which plants absorb contaminants from the soil through their roots and accumulate them in their aboveground tissues. The contaminants can then be removed from the site by harvesting the plants.\n",
      "* Phytodegradation: This is the process by which plants take up contaminants and break them down into less toxic forms through metabolic processes.\n",
      "* Rhizofiltration: This is the process by which plants absorb contaminants from water through their roots.\n",
      "* Phytovolatilization: This is the process by which plants take up contaminants and release them into the air in a less toxic form.\n",
      "\n",
      "Phytoremediation has several advantages over traditional methods of remediation, such as excavation and disposal. It is less disruptive to the environment, and it can be used to treat large areas at a lower cost. Additionally, phytoremediation can often be combined with other remediation techniques to enhance their effectiveness.\n",
      "\n",
      "There are many different plants that can be used for phytoremediation, and the choice of plant will depend on the specific contaminants present at the site and the environmental conditions. Some common phytoremediation plants include sunflowers, Indian mustard, and hybrid poplar.\n",
      "\n",
      "Phytoremediation is still a relatively new field, and there is ongoing research to improve its effectiveness and efficiency. However, it has already been successfully used to clean up a number of contaminated sites around the world.\n"
     ]
    }
   ],
   "source": [
    "from langchain_groq import ChatGroq\n",
    "\n",
    "llm = ChatGroq(\n",
    "    temperature=0,\n",
    "    groq_api_key=\"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\",\n",
    "    model_name=\"mixtral-8x7b-32768\",\n",
    ")\n",
    "\n",
    "\n",
    "response = llm.invoke([{\"role\": \"user\", \"content\": \"what is phytoremediation process\"}])\n",
    "print(response.content)"
   ]
  },
  {
   "cell_type": "code",
   "execution_count": 5,
   "metadata": {},
   "outputs": [
    {
     "name": "stdout",
     "output_type": "stream",
     "text": [
      "Apply for Software Engineer II, ITC\n",
      "\n",
      "Search JobsSkip navigationSearch JobsNIKE, INC. JOBSContract JobsJoin The Talent CommunityLife @ NikeOverviewBenefitsBrandsOverviewJordanConverseTeamsOverviewAdministrative SupportAdvanced InnovationAir Manufacturing InnovationAviationCommunicationsCustomer ServiceDesignDigitalFacilitiesFinance & AccountingGovernment & Public AffairsHuman ResourcesInsights & AnalyticsLegalManufacturing & EngineeringMarketingMerchandisingPlanningPrivacyProcurementProduct Creation, Development & ManagementRetail CorporateRetail StoresSalesSocial & Community ImpactSports MarketingStrategic PlanningSupply Chain, Distribution & LogisticsSustainabilityTechnologyLocationsOverviewNike WHQNike New York HQEHQ: Hilversum, The NetherlandsELC: Laakdal, BelgiumGreater China HQDiversity, Equity & InclusionOverviewMilitary InclusionDisability InclusionIndigenous InclusionInternshipsTechnologySoftware Engineer II, ITCKarnataka, IndiaBecome a Part of the NIKE, Inc. TeamNIKE, Inc. does more than outfit the world’s best athletes. It is a place to explore potential, obliterate boundaries and push out the edges of what can be. The company looks for people who can grow, think, dream and create. Its culture thrives by embracing diversity and rewarding imagination. The brand seeks achievers, leaders and visionaries. At NIKE, Inc. it’s about each person bringing skills and passion to a challenging and constantly evolving game.NIKE is a technology company. From our flagship website and five-star mobile apps to developing products, managing big data and providing leading edge engineering and systems support, our teams at NIKE Global Technology exist to revolutionize the future at the confluence of tech and sport. We invest and develop advances in technology and employ the most creative people in the world, and then give them the support to constantly innovate, iterate and serve consumers more directly and personally.  Our teams are innovative, diverse, multidisciplinary and collaborative, taking technology into the future and bringing the world with it.WHO YOU’LL WORK WITHThis position is for Consumer Marketplace - Athlete Tools and Consumer Order Management (ATCO) organization of Nike Inc.. Nike ATCO Engineering products are used in 37 countries. we serve 540M consumers and 46,000 athletes annually. This position will be focused on Order Management On Behalf Of (OMOBO) product. This is a team that’s always on the offense, working on innovative solutions, building world class experiences to serve Nike store coaches to view business intelligence reports & helps to take key decision for stores.WHO WE ARE LOOKING FOR4-6 years’ web applications design and hands-on development using React, React Hooks, JavaScript and Node.jsExperience in designing and implementing highly scalable web applicationsPossess a proven technical background and deep knowledge of software engineering principles, exceptional problem solving, design, programming, and testing skillsProven experience designing and developing on the AWS cloud infrastructure is a must. AWS components: CloudFormation, CloudFront, EC2, ECS, DynamoDB, S3, Lambdas and API GatewayFamiliarity with security technology and concepts (Authentication, Authorization, Single sign-on, etc.)Experience with CI/CD across multiple platforms, such as GitHub action, Jenkins, Slack, JiraTest automation framework experience across multiple platforms, such as Jest, React Testing Library, Cypress.Observability experience building monitoring dashboards in tools like SignalFx, New Relics, and SplunkBachelor’s degree in Computer Science or a related Engineering field or any combination of relevant equivalent experience, education, and trainingA track record of solving problems and getting things done in a fast-paced, results-oriented, and customer-focused environmentExcellent verbal and written communication and collaboration skills to effectively connect with both business and technical teamsWHAT YOU’LL WORK ONYou will be part of OMOBO team in Athlete Tools and Consumer Order department at Nike. You will Collaborate with Digital, Retail and Order Management teams across Nike to understand the integration flows across the Nike enterprise level.   The role and responsibilities for you will be below:Own the design and development of a technical solution that meets the needs of the business and aligns with architectural and quality standardsProvide technical leadership and mentorship to your teammates and develop a team environment that promotes collaboration and innovationAdvocate technical direction, help define standard methodologies, inform team principles, and evaluate decisions and their impact on the architectureWrite clean, maintainable code that is scalable, reliable, and observable to the team’s business deliverablesWork in full DevOps model including implementing, deploying, monitoring, and operating services at scaleEnsure software is of the highest quality that meets all deliverables within the constraints of demanding schedulesResolve technical issuesActively provide code review and feedback for other developersEncourage innovation by learning new technologies and creating prototypes to share new technical approaches with the teamPartner with the Product Owners to drive clarity on requirements, define technical options, provide estimates of effort and risk, and evaluate technical feasibilityGreat product sense and communicate effectively both verbally and written in a variety of settings and tailor communications to the target audienceInfluence others through optimism, self-assurance, and fact-based recommendationNIKE, Inc. is a growth company that looks for team members to grow with it. Nike offers a generous total rewards package, casual work environment, a diverse and inclusive culture, and an electric atmosphere for professional development. No matter the location, or the role, every Nike employee shares one galvanizing mission: To bring inspiration and innovation to every athlete* in the world.NIKE, Inc. is committed to employing a diverse workforce. Qualified applicants will receive consideration without regard to race, color, religion, sex, national origin, age, sexual orientation, gender identity, gender expression, veteran status, or disability.How We HireAt NIKE, Inc. we promise to provide a premium, inclusive, compelling and authentic candidate experience. Delivering on this promise means we allow you to be at your best — and to do that, you need to understand how the hiring process works. Transparency is key.\n",
      "\n",
      "* This overview explains our hiring process for corporate roles. Note there may be different hiring steps involved for non-corporate roles.Start nowBenefitsWhether it’s transportation or financial health, we continually invest in our employees to help them achieve greatness — inside and outside of work. All who work here should be able to realize their full potential.Employee Assistance ProgramHolidaysMedical PlanPaid Time Off (PTO)Product DiscountsLearn moreFIND A STOREBECOME A MEMBERSIGN UP FOR EMAILSEND US FEEDBACKSTUDENT DISCOUNTSGET HELPGET HELPOrder StatusDeliveryReturnsPayment OptionsContact Us On Nike.com InquiriesContact Us On All Other InquiriesABOUT NIKEABOUT NIKENewsCareersInvestorsSustainabilityIndia© 2024 Nike, Inc. All Rights ReservedGuidesNike AdaptNike Air MaxNike FlyleatherNike PegasusNike Zoom FlyNike AirNike FlyEaseNike FreeNike ReactNike ZoomXNike Air Force 1Nike FlyknitNike JoyrideNike VaporflyTerms of SaleTerms of UseNike Privacy Policy\n"
     ]
    }
   ],
   "source": [
    "from langchain_community.document_loaders import WebBaseLoader\n",
    "\n",
    "loader = WebBaseLoader(\"https://jobs.nike.com/job/R-43531?from=job%20search%20funnel\")\n",
    "page_data= loader.load().pop().page_content\n",
    "print(page_data)"
   ]
  },
  {
   "cell_type": "code",
   "execution_count": 8,
   "metadata": {},
   "outputs": [
    {
     "name": "stdout",
     "output_type": "stream",
     "text": [
      "[\n",
      "    {\n",
      "        \"role\": \"Software Engineer II\",\n",
      "        \"experience\": \"4-6 years\",\n",
      "        \"skills\": [\n",
      "            \"web applications design and hands-on development using React, React Hooks, JavaScript and Node.js\",\n",
      "            \"designing and implementing highly scalable web applications\",\n",
      "            \"deep knowledge of software engineering principles, exceptional problem solving, design, programming, and testing skills\",\n",
      "            \"AWS cloud infrastructure: CloudFormation, CloudFront, EC2, ECS, DynamoDB, S3, Lambdas and API Gateway\",\n",
      "            \"security technology and concepts (Authentication, Authorization, Single sign-on, etc.)\",\n",
      "            \"CI/CD across multiple platforms, such as GitHub action, Jenkins, Slack, Jira\",\n",
      "            \"test automation framework experience across multiple platforms, such as Jest, React Testing Library, Cypress\",\n",
      "            \"Observability experience building monitoring dashboards in tools like SignalFx, New Relics, and Splunk\"\n",
      "        ],\n",
      "        \"description\": \"This position is for Consumer Marketplace - Athlete Tools and Consumer Order Management (ATCO) organization of Nike Inc.. Nike ATCO Engineering products are used in 37 countries. we serve 540M consumers and 46,000 athletes annually. This position will be focused on Order Management On Behalf Of (OMOBO) product. This is a team that’s always on the offense, working on innovative solutions, building world class experiences to serve Nike store coaches to view business intelligence reports & helps to take key decision for stores.\"\n",
      "    }\n",
      "]\n"
     ]
    }
   ],
   "source": [
    "from langchain_core.prompts import ChatPromptTemplate\n",
    "prompt_extract = ChatPromptTemplate.from_template(\n",
    "    \"\"\"\n",
    "    ### SCRAPED TEXT FROM WEBSITE:\n",
    "    {page_data}\n",
    "    ### INSTRUCTION:\n",
    "    The scraped text is from the career's page of a website.\n",
    "    Your job is to extract the job postings and return them in JSON format containing the  following keys: 'role' , 'experience' , 'skills' and 'description'.\n",
    "    Only return the valid JSON.\n",
    "    ### VALID JSON (NO PREAMBLE):\n",
    "    \"\"\"\n",
    ")\n",
    "\n",
    "chain_extract=  prompt_extract | llm\n",
    "res= chain_extract.invoke(input={'page_data' :page_data})\n",
    "print(res.content)"
   ]
  },
  {
   "cell_type": "code",
   "execution_count": 9,
   "metadata": {},
   "outputs": [
    {
     "data": {
      "text/plain": [
       "[{'role': 'Software Engineer II',\n",
       "  'experience': '4-6 years',\n",
       "  'skills': ['web applications design and hands-on development using React, React Hooks, JavaScript and Node.js',\n",
       "   'designing and implementing highly scalable web applications',\n",
       "   'deep knowledge of software engineering principles, exceptional problem solving, design, programming, and testing skills',\n",
       "   'AWS cloud infrastructure: CloudFormation, CloudFront, EC2, ECS, DynamoDB, S3, Lambdas and API Gateway',\n",
       "   'security technology and concepts (Authentication, Authorization, Single sign-on, etc.)',\n",
       "   'CI/CD across multiple platforms, such as GitHub action, Jenkins, Slack, Jira',\n",
       "   'test automation framework experience across multiple platforms, such as Jest, React Testing Library, Cypress',\n",
       "   'Observability experience building monitoring dashboards in tools like SignalFx, New Relics, and Splunk'],\n",
       "  'description': 'This position is for Consumer Marketplace - Athlete Tools and Consumer Order Management (ATCO) organization of Nike Inc.. Nike ATCO Engineering products are used in 37 countries. we serve 540M consumers and 46,000 athletes annually. This position will be focused on Order Management On Behalf Of (OMOBO) product. This is a team that’s always on the offense, working on innovative solutions, building world class experiences to serve Nike store coaches to view business intelligence reports & helps to take key decision for stores.'}]"
      ]
     },
     "execution_count": 9,
     "metadata": {},
     "output_type": "execute_result"
    }
   ],
   "source": [
    "from langchain_core.output_parsers import JsonOutputParser\n",
    "\n",
    "json_parser= JsonOutputParser()\n",
    "json_res= json_parser.parse(res.content)\n",
    "json_res"
   ]
  },
  {
   "cell_type": "code",
   "execution_count": 10,
   "metadata": {},
   "outputs": [
    {
     "data": {
      "text/html": [
       "<div>\n",
       "<style scoped>\n",
       "    .dataframe tbody tr th:only-of-type {\n",
       "        vertical-align: middle;\n",
       "    }\n",
       "\n",
       "    .dataframe tbody tr th {\n",
       "        vertical-align: top;\n",
       "    }\n",
       "\n",
       "    .dataframe thead th {\n",
       "        text-align: right;\n",
       "    }\n",
       "</style>\n",
       "<table border=\"1\" class=\"dataframe\">\n",
       "  <thead>\n",
       "    <tr style=\"text-align: right;\">\n",
       "      <th></th>\n",
       "      <th>Techstack</th>\n",
       "      <th>Links</th>\n",
       "    </tr>\n",
       "  </thead>\n",
       "  <tbody>\n",
       "    <tr>\n",
       "      <th>0</th>\n",
       "      <td>React, Node.js, MongoDB</td>\n",
       "      <td>https://example.com/react-portfolio</td>\n",
       "    </tr>\n",
       "    <tr>\n",
       "      <th>1</th>\n",
       "      <td>Angular,.NET, SQL Server</td>\n",
       "      <td>https://example.com/angular-portfolio</td>\n",
       "    </tr>\n",
       "    <tr>\n",
       "      <th>2</th>\n",
       "      <td>Vue.js, Ruby on Rails, PostgreSQL</td>\n",
       "      <td>https://example.com/vue-portfolio</td>\n",
       "    </tr>\n",
       "    <tr>\n",
       "      <th>3</th>\n",
       "      <td>Python, Django, MySQL</td>\n",
       "      <td>https://example.com/python-portfolio</td>\n",
       "    </tr>\n",
       "    <tr>\n",
       "      <th>4</th>\n",
       "      <td>Java, Spring Boot, Oracle</td>\n",
       "      <td>https://example.com/java-portfolio</td>\n",
       "    </tr>\n",
       "    <tr>\n",
       "      <th>5</th>\n",
       "      <td>Flutter, Firebase, GraphQL</td>\n",
       "      <td>https://example.com/flutter-portfolio</td>\n",
       "    </tr>\n",
       "    <tr>\n",
       "      <th>6</th>\n",
       "      <td>WordPress, PHP, MySQL</td>\n",
       "      <td>https://example.com/wordpress-portfolio</td>\n",
       "    </tr>\n",
       "    <tr>\n",
       "      <th>7</th>\n",
       "      <td>Magento, PHP, MySQL</td>\n",
       "      <td>https://example.com/magento-portfolio</td>\n",
       "    </tr>\n",
       "    <tr>\n",
       "      <th>8</th>\n",
       "      <td>React Native, Node.js, MongoDB</td>\n",
       "      <td>https://example.com/react-native-portfolio</td>\n",
       "    </tr>\n",
       "    <tr>\n",
       "      <th>9</th>\n",
       "      <td>iOS, Swift, Core Data</td>\n",
       "      <td>https://example.com/ios-portfolio</td>\n",
       "    </tr>\n",
       "    <tr>\n",
       "      <th>10</th>\n",
       "      <td>Android, Java, Room Persistence</td>\n",
       "      <td>https://example.com/android-portfolio</td>\n",
       "    </tr>\n",
       "    <tr>\n",
       "      <th>11</th>\n",
       "      <td>Kotlin, Android, Firebase</td>\n",
       "      <td>https://example.com/kotlin-android-portfolio</td>\n",
       "    </tr>\n",
       "    <tr>\n",
       "      <th>12</th>\n",
       "      <td>Android TV, Kotlin, Android NDK</td>\n",
       "      <td>https://example.com/android-tv-portfolio</td>\n",
       "    </tr>\n",
       "    <tr>\n",
       "      <th>13</th>\n",
       "      <td>iOS, Swift, ARKit</td>\n",
       "      <td>https://example.com/ios-ar-portfolio</td>\n",
       "    </tr>\n",
       "    <tr>\n",
       "      <th>14</th>\n",
       "      <td>Cross-platform, Xamarin, Azure</td>\n",
       "      <td>https://example.com/xamarin-portfolio</td>\n",
       "    </tr>\n",
       "    <tr>\n",
       "      <th>15</th>\n",
       "      <td>Backend, Kotlin, Spring Boot</td>\n",
       "      <td>https://example.com/kotlin-backend-portfolio</td>\n",
       "    </tr>\n",
       "    <tr>\n",
       "      <th>16</th>\n",
       "      <td>Frontend, TypeScript, Angular</td>\n",
       "      <td>https://example.com/typescript-frontend-portfolio</td>\n",
       "    </tr>\n",
       "    <tr>\n",
       "      <th>17</th>\n",
       "      <td>Full-stack, JavaScript, Express.js</td>\n",
       "      <td>https://example.com/full-stack-js-portfolio</td>\n",
       "    </tr>\n",
       "    <tr>\n",
       "      <th>18</th>\n",
       "      <td>Machine Learning, Python, TensorFlow</td>\n",
       "      <td>https://example.com/ml-python-portfolio</td>\n",
       "    </tr>\n",
       "    <tr>\n",
       "      <th>19</th>\n",
       "      <td>DevOps, Jenkins, Docker</td>\n",
       "      <td>https://example.com/devops-portfolio</td>\n",
       "    </tr>\n",
       "  </tbody>\n",
       "</table>\n",
       "</div>"
      ],
      "text/plain": [
       "                               Techstack  \\\n",
       "0                React, Node.js, MongoDB   \n",
       "1               Angular,.NET, SQL Server   \n",
       "2      Vue.js, Ruby on Rails, PostgreSQL   \n",
       "3                  Python, Django, MySQL   \n",
       "4              Java, Spring Boot, Oracle   \n",
       "5             Flutter, Firebase, GraphQL   \n",
       "6                  WordPress, PHP, MySQL   \n",
       "7                    Magento, PHP, MySQL   \n",
       "8         React Native, Node.js, MongoDB   \n",
       "9                  iOS, Swift, Core Data   \n",
       "10       Android, Java, Room Persistence   \n",
       "11             Kotlin, Android, Firebase   \n",
       "12       Android TV, Kotlin, Android NDK   \n",
       "13                     iOS, Swift, ARKit   \n",
       "14        Cross-platform, Xamarin, Azure   \n",
       "15          Backend, Kotlin, Spring Boot   \n",
       "16         Frontend, TypeScript, Angular   \n",
       "17    Full-stack, JavaScript, Express.js   \n",
       "18  Machine Learning, Python, TensorFlow   \n",
       "19               DevOps, Jenkins, Docker   \n",
       "\n",
       "                                                Links  \n",
       "0                 https://example.com/react-portfolio  \n",
       "1               https://example.com/angular-portfolio  \n",
       "2                   https://example.com/vue-portfolio  \n",
       "3                https://example.com/python-portfolio  \n",
       "4                  https://example.com/java-portfolio  \n",
       "5               https://example.com/flutter-portfolio  \n",
       "6             https://example.com/wordpress-portfolio  \n",
       "7               https://example.com/magento-portfolio  \n",
       "8          https://example.com/react-native-portfolio  \n",
       "9                   https://example.com/ios-portfolio  \n",
       "10              https://example.com/android-portfolio  \n",
       "11       https://example.com/kotlin-android-portfolio  \n",
       "12           https://example.com/android-tv-portfolio  \n",
       "13               https://example.com/ios-ar-portfolio  \n",
       "14              https://example.com/xamarin-portfolio  \n",
       "15       https://example.com/kotlin-backend-portfolio  \n",
       "16  https://example.com/typescript-frontend-portfolio  \n",
       "17        https://example.com/full-stack-js-portfolio  \n",
       "18            https://example.com/ml-python-portfolio  \n",
       "19               https://example.com/devops-portfolio  "
      ]
     },
     "execution_count": 10,
     "metadata": {},
     "output_type": "execute_result"
    }
   ],
   "source": [
    "import pandas as pd\n",
    "\n",
    "df= pd.read_csv(\"my_portfolio.csv\")\n",
    "df"
   ]
  },
  {
   "cell_type": "code",
   "execution_count": null,
   "metadata": {},
   "outputs": [],
   "source": [
    "import chromadb\n",
    "import uuid\n",
    "import pandas as pd\n",
    "\n",
    "\n",
    "client = chromadb.PersistentClient('vectorstore')\n",
    "collection = client.get_or_create_collection(name='portfolio')\n",
    "\n",
    "if not collection.count():\n",
    "    for _, row in df.iterrows():\n",
    "        collection.add(documents=row['Techstack'],\n",
    "                       metadatas={\"links\": row[\"Links\"]},\n",
    "                       ids=[str(uuid.uuid4())])"
   ]
  },
  {
   "cell_type": "code",
   "execution_count": 18,
   "metadata": {},
   "outputs": [
    {
     "data": {
      "text/plain": [
       "[[{'links': 'https://example.com/ml-python-portfolio'},\n",
       "  {'links': 'https://example.com/python-portfolio'}],\n",
       " [{'links': 'https://example.com/react-native-portfolio'},\n",
       "  {'links': 'https://example.com/react-portfolio'}]]"
      ]
     },
     "execution_count": 18,
     "metadata": {},
     "output_type": "execute_result"
    }
   ],
   "source": [
    "links = collection.query(query_texts=['Expertise in Python','Expertise in React Native'], n_results=2).get('metadatas', [])\n",
    "links"
   ]
  },
  {
   "cell_type": "code",
   "execution_count": null,
   "metadata": {},
   "outputs": [
    {
     "name": "stdout",
     "output_type": "stream",
     "text": [
      "['web applications design and hands-on development using React, React Hooks, JavaScript and Node.js', 'designing and implementing highly scalable web applications', 'deep knowledge of software engineering principles, exceptional problem solving, design, programming, and testing skills', 'AWS cloud infrastructure: CloudFormation, CloudFront, EC2, ECS, DynamoDB, S3, Lambdas and API Gateway', 'security technology and concepts (Authentication, Authorization, Single sign-on, etc.)', 'CI/CD across multiple platforms, such as GitHub action, Jenkins, Slack, Jira', 'test automation framework experience across multiple platforms, such as Jest, React Testing Library, Cypress', 'Observability experience building monitoring dashboards in tools like SignalFx, New Relics, and Splunk']\n"
     ]
    }
   ],
   "source": [
    "for job in json_res:\n",
    "    skills = job.get(\"skills\") \n",
    "    print(skills)"
   ]
  },
  {
   "cell_type": "code",
   "execution_count": 28,
   "metadata": {},
   "outputs": [
    {
     "data": {
      "text/plain": [
       "{'role': 'Software Engineer II',\n",
       " 'experience': '4-6 years',\n",
       " 'skills': ['web applications design and hands-on development using React, React Hooks, JavaScript and Node.js',\n",
       "  'designing and implementing highly scalable web applications',\n",
       "  'deep knowledge of software engineering principles, exceptional problem solving, design, programming, and testing skills',\n",
       "  'AWS cloud infrastructure: CloudFormation, CloudFront, EC2, ECS, DynamoDB, S3, Lambdas and API Gateway',\n",
       "  'security technology and concepts (Authentication, Authorization, Single sign-on, etc.)',\n",
       "  'CI/CD across multiple platforms, such as GitHub action, Jenkins, Slack, Jira',\n",
       "  'test automation framework experience across multiple platforms, such as Jest, React Testing Library, Cypress',\n",
       "  'Observability experience building monitoring dashboards in tools like SignalFx, New Relics, and Splunk'],\n",
       " 'description': 'This position is for Consumer Marketplace - Athlete Tools and Consumer Order Management (ATCO) organization of Nike Inc.. Nike ATCO Engineering products are used in 37 countries. we serve 540M consumers and 46,000 athletes annually. This position will be focused on Order Management On Behalf Of (OMOBO) product. This is a team that’s always on the offense, working on innovative solutions, building world class experiences to serve Nike store coaches to view business intelligence reports & helps to take key decision for stores.'}"
      ]
     },
     "execution_count": 28,
     "metadata": {},
     "output_type": "execute_result"
    }
   ],
   "source": [
    "job"
   ]
  },
  {
   "cell_type": "code",
   "execution_count": 31,
   "metadata": {},
   "outputs": [
    {
     "name": "stdout",
     "output_type": "stream",
     "text": [
      "Subject: Expert Software Engineering Solutions for Nike ATCO Order Management On Behalf Of (OMOBO) Product\n",
      "\n",
      "Dear Hiring Manager,\n",
      "\n",
      "I hope this email finds you well. I am Nebin K Raj, a Business Development Executive at AtliQ, an AI & Software Consulting company specializing in automated tools that seamlessly integrate business processes, drive scalability, optimize operations, reduce costs, and enhance overall efficiency.\n",
      "\n",
      "Having reviewed the job description for the Software Engineer II position in Nike's Consumer Marketplace - Athlete Tools and Consumer Order Management (ATCO) organization, I am excited to introduce AtliQ as an ideal partner for your engineering needs. Our expertise aligns perfectly with the required skills and experience, particularly in:\n",
      "\n",
      "1. Web applications design and hands-on development using React, React Hooks, JavaScript, and Node.js\n",
      "2. Designing and implementing highly scalable web applications\n",
      "3. AWS cloud infrastructure: CloudFormation, CloudFront, EC2, ECS, DynamoDB, S3, Lambdas, and API Gateway\n",
      "4. Security technology and concepts (Authentication, Authorization, Single sign-on, etc.)\n",
      "5. CI/CD across multiple platforms, such as GitHub action, Jenkins, Slack, and Jira\n",
      "6. Test automation framework experience across multiple platforms, such as Jest, React Testing Library, and Cypress\n",
      "7. Observability experience building monitoring dashboards in tools like SignalFx, New Relics, and Splunk\n",
      "\n",
      "To further demonstrate our capabilities, I would like to share some relevant portfolio examples:\n",
      "\n",
      "1. [Python Portfolio](https://example.com/python-portfolio)\n",
      "2. [React Portfolio](https://example.com/react-portfolio)\n",
      "\n",
      "AtliQ's dedicated team of software engineers is eager to bring their innovative solutions and world-class experiences to Nike's OMOBO product, empowering your store coaches with business intelligence reports and facilitating informed decision-making for stores.\n",
      "\n",
      "Please feel free to contact me to discuss how AtliQ can support your engineering initiatives. I look forward to the opportunity to collaborate with your esteemed organization.\n",
      "\n",
      "Best regards,\n",
      "\n",
      "Nebin K Raj\n",
      "Business Development Executive\n",
      "AtliQ\n"
     ]
    }
   ],
   "source": [
    "prompt_email = ChatPromptTemplate.from_template(\n",
    "        \"\"\"\n",
    "        ### JOB DESCRIPTION:\n",
    "        {job_description}\n",
    "        \n",
    "        ### INSTRUCTION:\n",
    "        You are Nebin K Raj, a business development executive at AtliQ. AtliQ is an AI & Software Consulting company dedicated to facilitating\n",
    "        the seamless integration of business processes through automated tools. \n",
    "        Over our experience, we have empowered numerous enterprises with tailored solutions, fostering scalability, \n",
    "        process optimization, cost reduction, and heightened overall efficiency. \n",
    "        Your job is to write a cold email to the client regarding the job mentioned above describing the capability of AtliQ \n",
    "        in fulfilling their needs.\n",
    "        Also add the most relevant ones from the following links to showcase Atliq's portfolio: {link_list}\n",
    "        Remember you are Nebin K Raj, BDE at AtliQ. \n",
    "        Do not provide a preamble.\n",
    "        ### EMAIL (NO PREAMBLE):\n",
    "        \n",
    "        \"\"\"\n",
    "        )\n",
    "\n",
    "chain_email = prompt_email | llm\n",
    "res = chain_email.invoke({\"job_description\": str(job), \"link_list\": links})\n",
    "print(res.content)"
   ]
  }
 ],
 "metadata": {
  "kernelspec": {
   "display_name": "Python 3",
   "language": "python",
   "name": "python3"
  },
  "language_info": {
   "codemirror_mode": {
    "name": "ipython",
    "version": 3
   },
   "file_extension": ".py",
   "mimetype": "text/x-python",
   "name": "python",
   "nbconvert_exporter": "python",
   "pygments_lexer": "ipython3",
   "version": "3.12.4"
  }
 },
 "nbformat": 4,
 "nbformat_minor": 2
}
